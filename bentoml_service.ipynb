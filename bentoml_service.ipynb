{
 "cells": [
  {
   "cell_type": "code",
   "execution_count": 18,
   "id": "081fa6da-c47d-4930-8625-29454d95549a",
   "metadata": {},
   "outputs": [
    {
     "name": "stdout",
     "output_type": "stream",
     "text": [
      "[2021-11-17 14:34:11,182] WARNING - BentoML by default does not include spacy and torchvision package when using PytorchModelArtifact. To make sure BentoML bundle those packages if they are required for your model, either import those packages in BentoService definition file or manually add them via `@env(pip_packages=['torchvision'])` when defining a BentoService\n",
      "[2021-11-17 14:34:11,952] INFO - BentoService bundle 'PytorchModelService:2021-11' created at: /workdir/bentoml\n"
     ]
    }
   ],
   "source": [
    "import os\n",
    "from net import Net\n",
    "from bento_service import PytorchModelService\n",
    "\n",
    "PATH = \"./model/model.pt\"\n",
    "model = torch.load(PATH)\n",
    "model.eval()\n",
    "\n",
    "svc = PytorchModelService()\n",
    "svc.pack('model', model)\n",
    "os.makedirs('/workdir/bentoml', exist_ok=True)\n",
    "saved_path = svc.save_to_dir('/workdir/bentoml')"
   ]
  },
  {
   "cell_type": "code",
   "execution_count": null,
   "id": "9bbbf8bb-21ad-4922-b43f-0015738d8440",
   "metadata": {},
   "outputs": [],
   "source": []
  }
 ],
 "metadata": {
  "kernelspec": {
   "display_name": "Python 3 (ipykernel)",
   "language": "python",
   "name": "python3"
  },
  "language_info": {
   "codemirror_mode": {
    "name": "ipython",
    "version": 3
   },
   "file_extension": ".py",
   "mimetype": "text/x-python",
   "name": "python",
   "nbconvert_exporter": "python",
   "pygments_lexer": "ipython3",
   "version": "3.8.12"
  }
 },
 "nbformat": 4,
 "nbformat_minor": 5
}
