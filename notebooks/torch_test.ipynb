{
 "cells": [
  {
   "cell_type": "code",
   "execution_count": 3,
   "id": "3e4fa296-c04c-4833-9a44-c4732c6edf47",
   "metadata": {},
   "outputs": [],
   "source": [
    "import torch\n",
    "import torch.nn as nn\n",
    "import torch.nn.functional as F\n",
    "import torch.optim as optim\n",
    "from torchvision import datasets, transforms\n",
    "from src.models.net import Net\n",
    "from src.models.onboard_dataset import OnboardDataset"
   ]
  },
  {
   "cell_type": "code",
   "execution_count": 4,
   "id": "5b4a281d-e9ab-4719-a0f7-7ff49053d5be",
   "metadata": {},
   "outputs": [],
   "source": [
    "# Set variables to train the model.\n",
    "no_cuda = True\n",
    "seed = 1\n",
    "\n",
    "use_cuda = not no_cuda and torch.cuda.is_available()\n",
    "torch.manual_seed(seed)\n",
    "device = torch.device(\"cuda\" if use_cuda else \"cpu\")\n",
    "kwargs = {'num_workers': 1, 'pin_memory': True} if use_cuda else {}"
   ]
  },
  {
   "cell_type": "code",
   "execution_count": 5,
   "id": "6d29b71d-a7a9-4f1b-b4bc-757fa441339d",
   "metadata": {},
   "outputs": [],
   "source": [
    "#Prepare Data Loader for Training and Validation\n",
    "batch_size = 64\n",
    "test_batch_size = 100\n",
    "\n",
    "mnist_transform = transforms.Compose([\n",
    "    transforms.ToTensor(), \n",
    "    transforms.Normalize((0.1307,), (0.3081,))\n",
    "])\n",
    "\n",
    "train_loader = torch.utils.data.DataLoader(\n",
    "        OnboardDataset(path='./data/processed/train_set.npz', transform=mnist_transform),\n",
    "        batch_size = batch_size, shuffle=True, **kwargs)\n",
    "\n",
    "valid_loader = torch.utils.data.DataLoader(\n",
    "        OnboardDataset(path='./data/processed/valid_set.npz', transform=mnist_transform),\n",
    "        batch_size=test_batch_size, shuffle=True, **kwargs)"
   ]
  },
  {
   "cell_type": "code",
   "execution_count": 6,
   "id": "a3684700-271c-4ae0-b754-11ae9e55772e",
   "metadata": {},
   "outputs": [],
   "source": [
    "lr = 0.01\n",
    "momentum = 0.5\n",
    "model = Net().to(device)\n",
    "optimizer = optim.SGD(model.parameters(), lr=lr, momentum=momentum)\n",
    "cross_entropy_loss = nn.CrossEntropyLoss()"
   ]
  },
  {
   "cell_type": "code",
   "execution_count": 7,
   "id": "8d039300-aeb1-4d39-9429-f708adb6e125",
   "metadata": {},
   "outputs": [],
   "source": [
    "\n",
    "#Define Train function and Test function to validate.\n",
    "def train(log_interval, model, device, train_loader, optimizer, epoch):\n",
    "\n",
    "    model.train()\n",
    "    for batch_idx, (data, target) in enumerate(train_loader):\n",
    "        data, target = data.to(device), target.to(device)\n",
    "        optimizer.zero_grad()\n",
    "        output = model(data)\n",
    "        loss = cross_entropy_loss(output, target)\n",
    "        loss.backward()\n",
    "        optimizer.step()\n",
    "        if batch_idx % log_interval == 0:\n",
    "            print('Train Epoch: {} [{}/{} ({:.0f}%)]\\tLoss: {:.6f}'.format(\n",
    "                epoch, batch_idx * len(data), len(train_loader.dataset),\n",
    "                100. * batch_idx / len(train_loader), loss.item()))\n",
    "\n",
    "def valid(log_interval, model, device, test_loader):\n",
    "    model.eval()\n",
    "    val_loss = 0\n",
    "    correct = 0\n",
    "    with torch.no_grad():\n",
    "        for data, target in valid_loader:\n",
    "            data, target = data.to(device), target.to(device)\n",
    "            output = model(data)\n",
    "            val_loss += cross_entropy_loss(output, target).item() \n",
    "            pred = output.argmax(dim=1, keepdim=True)\n",
    "            correct += pred.eq(target.view_as(pred)).sum().item()\n",
    "\n",
    "    val_loss /= len(valid_loader.dataset)\n",
    "\n",
    "    print('\\nValid set: Average loss: {:.4f}, Accuracy: {}/{} ({:.0f}%)\\n'.format\n",
    "          (val_loss, correct, len(valid_loader.dataset),\n",
    "        100. * correct / len(valid_loader.dataset)))"
   ]
  },
  {
   "cell_type": "code",
   "execution_count": 8,
   "id": "7e488420-0aea-49d8-9a6f-b375acf0fb77",
   "metadata": {},
   "outputs": [
    {
     "name": "stdout",
     "output_type": "stream",
     "text": [
      "Train Epoch: 1 [0/50000 (0%)]\tLoss: 2.304849\n",
      "Train Epoch: 1 [12800/50000 (26%)]\tLoss: 0.519648\n",
      "Train Epoch: 1 [25600/50000 (51%)]\tLoss: 0.251751\n",
      "Train Epoch: 1 [38400/50000 (77%)]\tLoss: 0.269359\n",
      "\n",
      "Valid set: Average loss: 0.0028, Accuracy: 9188/10000 (92%)\n",
      "\n"
     ]
    }
   ],
   "source": [
    "log_interval = 200\n",
    "epoch = 1\n",
    "PATH = \"./models/model.pt\"\n",
    "train(log_interval, model, device, train_loader, optimizer, epoch)\n",
    "valid(log_interval, model, device, valid_loader)\n",
    "torch.save(model, PATH)"
   ]
  },
  {
   "cell_type": "code",
   "execution_count": 9,
   "id": "90eba8c4-2561-4144-8ec7-1ee5bcfdb6da",
   "metadata": {},
   "outputs": [
    {
     "data": {
      "text/plain": [
       "Net(\n",
       "  (fc1): Linear(in_features=784, out_features=128, bias=True)\n",
       "  (fc2): Linear(in_features=128, out_features=10, bias=True)\n",
       ")"
      ]
     },
     "execution_count": 9,
     "metadata": {},
     "output_type": "execute_result"
    }
   ],
   "source": [
    "model = torch.load(PATH)\n",
    "model.eval()"
   ]
  }
 ],
 "metadata": {
  "kernelspec": {
   "display_name": "Python 3 (ipykernel)",
   "language": "python",
   "name": "python3"
  },
  "language_info": {
   "codemirror_mode": {
    "name": "ipython",
    "version": 3
   },
   "file_extension": ".py",
   "mimetype": "text/x-python",
   "name": "python",
   "nbconvert_exporter": "python",
   "pygments_lexer": "ipython3",
   "version": "3.8.12"
  }
 },
 "nbformat": 4,
 "nbformat_minor": 5
}
