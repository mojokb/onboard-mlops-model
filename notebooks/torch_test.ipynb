{
 "cells": [
  {
   "cell_type": "code",
   "execution_count": 3,
   "id": "3e4fa296-c04c-4833-9a44-c4732c6edf47",
   "metadata": {},
   "outputs": [],
   "source": [
    "import torch\n",
    "import torch.nn as nn\n",
    "import torch.nn.functional as F\n",
    "import torch.optim as optim\n",
    "from torchvision import datasets, transforms\n",
    "from src.models.net import Net\n",
    "from src.models.onboard_dataset import OnboardDataset"
   ]
  },
  {
   "cell_type": "code",
   "execution_count": 22,
   "id": "5b4a281d-e9ab-4719-a0f7-7ff49053d5be",
   "metadata": {},
   "outputs": [],
   "source": [
    "class TrainModel():\n",
    "    def __init__(self, train_set=\"./data/processed/train_set.npz\", \n",
    "                 valid_set=\"./data/processed/valid_set.npz\"):    \n",
    "        no_cuda = True\n",
    "        use_cuda = not no_cuda and torch.cuda.is_available()\n",
    "        torch.manual_seed(1)\n",
    "        self.device = torch.device(\"cuda\" if use_cuda else \"cpu\")\n",
    "        kwargs = {'num_workers': 1, 'pin_memory': True} if use_cuda else {}\n",
    "\n",
    "        train_batch_size = 64\n",
    "        valid_batch_size = 100\n",
    "        lr = 0.01\n",
    "        momentum = 0.5\n",
    "        \n",
    "        self.log_interval = 100\n",
    "        self.model = Net().to(self.device)\n",
    "        self.optimizer = optim.SGD(self.model.parameters(), lr=lr, momentum=momentum)\n",
    "        self.loss = nn.CrossEntropyLoss()   \n",
    "        \n",
    "        mnist_transform = transforms.Compose([\n",
    "            transforms.ToTensor(), \n",
    "            transforms.Normalize((0.1307,), (0.3081,))\n",
    "        ])             \n",
    "        self.train_loader = torch.utils.data.DataLoader(\n",
    "                OnboardDataset(path=train_set, transform=mnist_transform),\n",
    "                batch_size = train_batch_size, shuffle=True, **kwargs)\n",
    "        self.valid_loader = torch.utils.data.DataLoader(\n",
    "                OnboardDataset(path=valid_set, transform=mnist_transform),\n",
    "                batch_size = valid_batch_size, shuffle=True, **kwargs)\n",
    "        \n",
    "    def train_model(self, epoch):\n",
    "        self.model.train()\n",
    "        for batch_idx, (data, target) in enumerate(self.train_loader):\n",
    "            data, target = data.to(self.device), target.to(self.device)\n",
    "            self.optimizer.zero_grad()\n",
    "            output = self.model(data)\n",
    "            loss = self.loss(output, target)\n",
    "            loss.backward()\n",
    "            self.optimizer.step()\n",
    "            if batch_idx % self.log_interval == 0:\n",
    "                print('Train Epoch: {} [{}/{} ({:.0f}%)]\\tLoss: {:.6f}'.format(\n",
    "                    epoch, batch_idx * len(data), len(self.train_loader.dataset),\n",
    "                    100. * batch_idx / len(self.train_loader), loss.item()))\n",
    "\n",
    "    def valid_model(self):\n",
    "        self.model.eval()\n",
    "        val_loss = 0\n",
    "        correct = 0\n",
    "        with torch.no_grad():\n",
    "            for data, target in self.valid_loader:\n",
    "                data, target = data.to(self.device), target.to(self.device)\n",
    "                output = self.model(data)\n",
    "                val_loss += self.loss(output, target).item() \n",
    "                pred = output.argmax(dim=1, keepdim=True)\n",
    "                correct += pred.eq(target.view_as(pred)).sum().item()\n",
    "\n",
    "        val_loss /= len(self.valid_loader.dataset)\n",
    "\n",
    "        print('\\nValid set: Average loss: {:.4f}, Accuracy: {}/{} ({:.0f}%)\\n'.format\n",
    "              (val_loss, correct, len(self.valid_loader.dataset),\n",
    "            100. * correct / len(self.valid_loader.dataset)))\n",
    "        \n",
    "    def train(self, epochs, save_model_path=\"./models/model.pt\"):\n",
    "        for epoch in range(epochs):\n",
    "            self.train_model(epoch)\n",
    "            self.valid_model()\n",
    "        torch.save(self.model, save_model_path)         "
   ]
  },
  {
   "cell_type": "code",
   "execution_count": 23,
   "id": "7e488420-0aea-49d8-9a6f-b375acf0fb77",
   "metadata": {},
   "outputs": [
    {
     "name": "stdout",
     "output_type": "stream",
     "text": [
      "Train Epoch: 0 [0/50000 (0%)]\tLoss: 2.311310\n",
      "Train Epoch: 0 [6400/50000 (13%)]\tLoss: 0.670621\n",
      "Train Epoch: 0 [12800/50000 (26%)]\tLoss: 0.739158\n",
      "Train Epoch: 0 [19200/50000 (38%)]\tLoss: 0.386902\n",
      "Train Epoch: 0 [25600/50000 (51%)]\tLoss: 0.371745\n",
      "Train Epoch: 0 [32000/50000 (64%)]\tLoss: 0.494126\n",
      "Train Epoch: 0 [38400/50000 (77%)]\tLoss: 0.281415\n",
      "Train Epoch: 0 [44800/50000 (90%)]\tLoss: 0.243157\n",
      "\n",
      "Valid set: Average loss: 0.0027, Accuracy: 9208/10000 (92%)\n",
      "\n",
      "Train Epoch: 1 [0/50000 (0%)]\tLoss: 0.226171\n",
      "Train Epoch: 1 [6400/50000 (13%)]\tLoss: 0.179414\n",
      "Train Epoch: 1 [12800/50000 (26%)]\tLoss: 0.255594\n",
      "Train Epoch: 1 [19200/50000 (38%)]\tLoss: 0.366122\n",
      "Train Epoch: 1 [25600/50000 (51%)]\tLoss: 0.227165\n",
      "Train Epoch: 1 [32000/50000 (64%)]\tLoss: 0.378966\n",
      "Train Epoch: 1 [38400/50000 (77%)]\tLoss: 0.461857\n",
      "Train Epoch: 1 [44800/50000 (90%)]\tLoss: 0.496010\n",
      "\n",
      "Valid set: Average loss: 0.0022, Accuracy: 9377/10000 (94%)\n",
      "\n"
     ]
    }
   ],
   "source": [
    "if __name__ == \"__main__\":\n",
    "    train_model = TrainModel(train_set=\"./data/processed/train_set.npz\", \n",
    "                            valid_set=\"./data/processed/valid_set.npz\", )\n",
    "    train_model.train(epochs=2, save_model_path=\"./models/model.pt\")\n"
   ]
  },
  {
   "cell_type": "code",
   "execution_count": 9,
   "id": "90eba8c4-2561-4144-8ec7-1ee5bcfdb6da",
   "metadata": {},
   "outputs": [
    {
     "data": {
      "text/plain": [
       "Net(\n",
       "  (fc1): Linear(in_features=784, out_features=128, bias=True)\n",
       "  (fc2): Linear(in_features=128, out_features=10, bias=True)\n",
       ")"
      ]
     },
     "execution_count": 9,
     "metadata": {},
     "output_type": "execute_result"
    }
   ],
   "source": [
    "model = torch.load(PATH)\n",
    "model.eval()"
   ]
  }
 ],
 "metadata": {
  "kernelspec": {
   "display_name": "Python 3 (ipykernel)",
   "language": "python",
   "name": "python3"
  },
  "language_info": {
   "codemirror_mode": {
    "name": "ipython",
    "version": 3
   },
   "file_extension": ".py",
   "mimetype": "text/x-python",
   "name": "python",
   "nbconvert_exporter": "python",
   "pygments_lexer": "ipython3",
   "version": "3.8.12"
  }
 },
 "nbformat": 4,
 "nbformat_minor": 5
}
