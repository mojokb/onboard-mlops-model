{
 "cells": [
  {
   "cell_type": "code",
   "execution_count": 29,
   "id": "3e4fa296-c04c-4833-9a44-c4732c6edf47",
   "metadata": {},
   "outputs": [],
   "source": [
    "import os\n",
    "import torch\n",
    "import torch.nn as nn\n",
    "import torch.optim as optim\n",
    "from torch.utils.data import DataLoader\n",
    "from torchvision import transforms\n",
    "from src.models.net import Net\n",
    "from src.models.onboard_dataset import OnboardDataset\n",
    "from itertools import chain\n",
    "from sklearn.metrics import f1_score"
   ]
  },
  {
   "cell_type": "code",
   "execution_count": 30,
   "id": "5b4a281d-e9ab-4719-a0f7-7ff49053d5be",
   "metadata": {},
   "outputs": [],
   "source": [
    "class TrainModel:\n",
    "    def __init__(self):\n",
    "        self.classes = 10\n",
    "        self.train_set = None\n",
    "        self.valid_set = None\n",
    "        self.device = torch.device(\"cpu\")\n",
    "        self.log_interval = 100\n",
    "        self.model = Net().to(self.device)\n",
    "        self.loss = nn.CrossEntropyLoss()\n",
    "        self.optimizer = None\n",
    "        self.train_batch_size = 64\n",
    "        self.valid_batch_size = 1000\n",
    "        self.transform = None\n",
    "        self.train_loader = None\n",
    "        self.valid_loader = None\n",
    "        self._set_transform()\n",
    "        \n",
    "        \n",
    "    def _concat_data_loader(self, dataset_param, batch_size):\n",
    "        if isinstance(dataset_param, list):\n",
    "            loader_list = []\n",
    "            for dataset in self.train_set:\n",
    "                loader.append(OnboardDataset(path=dataset))\n",
    "            concat_dataset = torch.utils.data.ConcatDataset(loader)    \n",
    "            return DataLoader(concat_dataset, batch_size=batch_size, shuffle=True)\n",
    "        else:\n",
    "            return DataLoader(OnboardDataset(path=self.train_set, transform=self.transform),\n",
    "                                           batch_size=batch_size, shuffle=True)\n",
    "\n",
    "    def _set_data_loader(self):\n",
    "        self.train_loader = self._concat_data_loader(self.train_set, self.train_batch_size)\n",
    "        self.valid_loader = sefl._concat_data_loader(self.valid_set, self.valid_batch_size)\n",
    "\n",
    "    def _set_transform(self):\n",
    "        self.transform = transforms.Compose([\n",
    "            transforms.ToTensor(),\n",
    "            transforms.Normalize((0.1307,), (0.3081,))\n",
    "        ])\n",
    "\n",
    "    def _train_model(self, epoch, lr):\n",
    "        self.model.train()\n",
    "        for batch_idx, (data, target) in enumerate(self.train_loader):\n",
    "            data, target = data.to(self.device), target.to(self.device)\n",
    "            self.optimizer.zero_grad()\n",
    "            output = self.model(data)\n",
    "            loss = self.loss(output, target)\n",
    "            loss.backward()\n",
    "            self.optimizer.step()\n",
    "            if batch_idx % self.log_interval == 0:\n",
    "                print('Train Epoch: {} [{}/{} ({:.0f}%)]\\tLoss: {:.6f}'.format(\n",
    "                    epoch, batch_idx * len(data), len(self.train_loader.dataset),\n",
    "                           100. * batch_idx / len(self.train_loader), loss.item()))\n",
    "\n",
    "    def _valid_model(self):\n",
    "        self.model.eval()\n",
    "        val_loss = 0\n",
    "        correct = 0\n",
    "        with torch.no_grad():\n",
    "            for data, target in self.valid_loader:\n",
    "                data, target = data.to(self.device), target.to(self.device)\n",
    "                output = self.model(data)\n",
    "                val_loss += self.loss(output, target).item()\n",
    "                pred = output.argmax(dim=1, keepdim=True)\n",
    "                correct += pred.eq(target.view_as(pred)).sum().item()\n",
    "\n",
    "        val_loss /= len(self.valid_loader.dataset)\n",
    "        accuracy = 100. * correct / len(self.valid_loader.dataset)\n",
    "        print('\\nValid set: Average loss: {:.4f}, Accuracy: {}/ {} ({:.0f}%)\\n'.format\n",
    "              (val_loss, correct, len(self.valid_loader.dataset), accuracy))\n",
    "\n",
    "    def load_model(self, model_path):\n",
    "        self.model = torch.load(model_path)\n",
    "\n",
    "    def train(self, train_set, valid_set, epochs, lr):\n",
    "        self.train_set = train_set\n",
    "        self.valid_set = valid_set\n",
    "        self._set_data_loader()\n",
    "        self.optimizer = optim.SGD(self.model.parameters(), lr=lr)\n",
    "        for epoch in range(epochs):\n",
    "            self._train_model(epoch, lr)\n",
    "            self._valid_model()\n",
    "\n",
    "    def test(self, test_set):\n",
    "        test_batch_size = 256\n",
    "        test_loader = torch.utils.data.DataLoader(OnboardDataset(path=test_set,\n",
    "                                                                 transform=self.transform),\n",
    "                                                  batch_size=test_batch_size, shuffle=True)\n",
    "        self.model.eval()\n",
    "        predictions_list = []\n",
    "        labels_list = []\n",
    "        with torch.no_grad():\n",
    "            for data, target in test_loader:\n",
    "                data, target = data.to(self.device), target.to(self.device)\n",
    "                labels_list.append(target)\n",
    "                output = self.model(data)\n",
    "                pred = output.argmax(dim=1, keepdim=True)\n",
    "                predictions_list.append(pred)\n",
    "\n",
    "        predictions_l = [predictions_list[i].tolist() for i in range(len(predictions_list))]\n",
    "        labels_l = [labels_list[i].tolist() for i in range(len(labels_list))]\n",
    "        predictions_l = list(chain.from_iterable(predictions_l))\n",
    "        labels_l = list(chain.from_iterable(labels_l))\n",
    "\n",
    "        ap_avg = 0.0\n",
    "        for i in range(self.classes):\n",
    "            ap_avg += f1_score(labels_l, predictions_l, labels=[i], average='weighted')\n",
    "        return ap_avg / self.classes\n",
    "\n",
    "    def save_model(self, save_model_path):\n",
    "        torch.save(self.model, os.path.join(save_model_path, \"model.pt\"))"
   ]
  },
  {
   "cell_type": "code",
   "execution_count": 32,
   "id": "7e488420-0aea-49d8-9a6f-b375acf0fb77",
   "metadata": {},
   "outputs": [
    {
     "name": "stdout",
     "output_type": "stream",
     "text": [
      "Train Epoch: 0 [0/97200 (0%)]\tLoss: 27.287403\n",
      "Train Epoch: 0 [6400/97200 (7%)]\tLoss: 2.361629\n",
      "Train Epoch: 0 [12800/97200 (13%)]\tLoss: 2.308438\n",
      "Train Epoch: 0 [19200/97200 (20%)]\tLoss: 2.306647\n",
      "Train Epoch: 0 [25600/97200 (26%)]\tLoss: 2.301248\n",
      "Train Epoch: 0 [32000/97200 (33%)]\tLoss: 2.307038\n",
      "Train Epoch: 0 [38400/97200 (39%)]\tLoss: 2.305938\n",
      "Train Epoch: 0 [44800/97200 (46%)]\tLoss: 2.244758\n",
      "Train Epoch: 0 [51200/97200 (53%)]\tLoss: 2.073866\n"
     ]
    },
    {
     "ename": "KeyboardInterrupt",
     "evalue": "",
     "output_type": "error",
     "traceback": [
      "\u001b[0;31m---------------------------------------------------------------------------\u001b[0m",
      "\u001b[0;31mKeyboardInterrupt\u001b[0m                         Traceback (most recent call last)",
      "\u001b[0;32m/tmp/ipykernel_773/4051439164.py\u001b[0m in \u001b[0;36m<module>\u001b[0;34m\u001b[0m\n\u001b[1;32m      1\u001b[0m \u001b[0;32mif\u001b[0m \u001b[0m__name__\u001b[0m \u001b[0;34m==\u001b[0m \u001b[0;34m\"__main__\"\u001b[0m\u001b[0;34m:\u001b[0m\u001b[0;34m\u001b[0m\u001b[0;34m\u001b[0m\u001b[0m\n\u001b[1;32m      2\u001b[0m     \u001b[0mtrain_model\u001b[0m \u001b[0;34m=\u001b[0m \u001b[0mTrainModel\u001b[0m\u001b[0;34m(\u001b[0m\u001b[0;34m)\u001b[0m\u001b[0;34m\u001b[0m\u001b[0;34m\u001b[0m\u001b[0m\n\u001b[0;32m----> 3\u001b[0;31m     train_model.train(epochs=3, lr=0.01,\n\u001b[0m\u001b[1;32m      4\u001b[0m                       \u001b[0mtrain_set\u001b[0m\u001b[0;34m=\u001b[0m\u001b[0;34m[\u001b[0m\u001b[0;34m\"../data/processed/train_set.npz\"\u001b[0m\u001b[0;34m,\u001b[0m \u001b[0;34m\"../data/processed/train_set.npz\"\u001b[0m\u001b[0;34m]\u001b[0m\u001b[0;34m,\u001b[0m\u001b[0;34m\u001b[0m\u001b[0;34m\u001b[0m\u001b[0m\n\u001b[1;32m      5\u001b[0m                       valid_set=\"../data/processed/valid_set.npz\")\n",
      "\u001b[0;32m/tmp/ipykernel_773/716509165.py\u001b[0m in \u001b[0;36mtrain\u001b[0;34m(self, train_set, valid_set, epochs, lr)\u001b[0m\n\u001b[1;32m     82\u001b[0m         \u001b[0mself\u001b[0m\u001b[0;34m.\u001b[0m\u001b[0moptimizer\u001b[0m \u001b[0;34m=\u001b[0m \u001b[0moptim\u001b[0m\u001b[0;34m.\u001b[0m\u001b[0mSGD\u001b[0m\u001b[0;34m(\u001b[0m\u001b[0mself\u001b[0m\u001b[0;34m.\u001b[0m\u001b[0mmodel\u001b[0m\u001b[0;34m.\u001b[0m\u001b[0mparameters\u001b[0m\u001b[0;34m(\u001b[0m\u001b[0;34m)\u001b[0m\u001b[0;34m,\u001b[0m \u001b[0mlr\u001b[0m\u001b[0;34m=\u001b[0m\u001b[0mlr\u001b[0m\u001b[0;34m)\u001b[0m\u001b[0;34m\u001b[0m\u001b[0;34m\u001b[0m\u001b[0m\n\u001b[1;32m     83\u001b[0m         \u001b[0;32mfor\u001b[0m \u001b[0mepoch\u001b[0m \u001b[0;32min\u001b[0m \u001b[0mrange\u001b[0m\u001b[0;34m(\u001b[0m\u001b[0mepochs\u001b[0m\u001b[0;34m)\u001b[0m\u001b[0;34m:\u001b[0m\u001b[0;34m\u001b[0m\u001b[0;34m\u001b[0m\u001b[0m\n\u001b[0;32m---> 84\u001b[0;31m             \u001b[0mself\u001b[0m\u001b[0;34m.\u001b[0m\u001b[0m_train_model\u001b[0m\u001b[0;34m(\u001b[0m\u001b[0mepoch\u001b[0m\u001b[0;34m,\u001b[0m \u001b[0mlr\u001b[0m\u001b[0;34m)\u001b[0m\u001b[0;34m\u001b[0m\u001b[0;34m\u001b[0m\u001b[0m\n\u001b[0m\u001b[1;32m     85\u001b[0m             \u001b[0mself\u001b[0m\u001b[0;34m.\u001b[0m\u001b[0m_valid_model\u001b[0m\u001b[0;34m(\u001b[0m\u001b[0;34m)\u001b[0m\u001b[0;34m\u001b[0m\u001b[0;34m\u001b[0m\u001b[0m\n\u001b[1;32m     86\u001b[0m \u001b[0;34m\u001b[0m\u001b[0m\n",
      "\u001b[0;32m/tmp/ipykernel_773/716509165.py\u001b[0m in \u001b[0;36m_train_model\u001b[0;34m(self, epoch, lr)\u001b[0m\n\u001b[1;32m     46\u001b[0m         \u001b[0;32mfor\u001b[0m \u001b[0mbatch_idx\u001b[0m\u001b[0;34m,\u001b[0m \u001b[0;34m(\u001b[0m\u001b[0mdata\u001b[0m\u001b[0;34m,\u001b[0m \u001b[0mtarget\u001b[0m\u001b[0;34m)\u001b[0m \u001b[0;32min\u001b[0m \u001b[0menumerate\u001b[0m\u001b[0;34m(\u001b[0m\u001b[0mself\u001b[0m\u001b[0;34m.\u001b[0m\u001b[0mtrain_loader\u001b[0m\u001b[0;34m)\u001b[0m\u001b[0;34m:\u001b[0m\u001b[0;34m\u001b[0m\u001b[0;34m\u001b[0m\u001b[0m\n\u001b[1;32m     47\u001b[0m             \u001b[0mdata\u001b[0m\u001b[0;34m,\u001b[0m \u001b[0mtarget\u001b[0m \u001b[0;34m=\u001b[0m \u001b[0mdata\u001b[0m\u001b[0;34m.\u001b[0m\u001b[0mto\u001b[0m\u001b[0;34m(\u001b[0m\u001b[0mself\u001b[0m\u001b[0;34m.\u001b[0m\u001b[0mdevice\u001b[0m\u001b[0;34m)\u001b[0m\u001b[0;34m,\u001b[0m \u001b[0mtarget\u001b[0m\u001b[0;34m.\u001b[0m\u001b[0mto\u001b[0m\u001b[0;34m(\u001b[0m\u001b[0mself\u001b[0m\u001b[0;34m.\u001b[0m\u001b[0mdevice\u001b[0m\u001b[0;34m)\u001b[0m\u001b[0;34m\u001b[0m\u001b[0;34m\u001b[0m\u001b[0m\n\u001b[0;32m---> 48\u001b[0;31m             \u001b[0mself\u001b[0m\u001b[0;34m.\u001b[0m\u001b[0moptimizer\u001b[0m\u001b[0;34m.\u001b[0m\u001b[0mzero_grad\u001b[0m\u001b[0;34m(\u001b[0m\u001b[0;34m)\u001b[0m\u001b[0;34m\u001b[0m\u001b[0;34m\u001b[0m\u001b[0m\n\u001b[0m\u001b[1;32m     49\u001b[0m             \u001b[0moutput\u001b[0m \u001b[0;34m=\u001b[0m \u001b[0mself\u001b[0m\u001b[0;34m.\u001b[0m\u001b[0mmodel\u001b[0m\u001b[0;34m(\u001b[0m\u001b[0mdata\u001b[0m\u001b[0;34m)\u001b[0m\u001b[0;34m\u001b[0m\u001b[0;34m\u001b[0m\u001b[0m\n\u001b[1;32m     50\u001b[0m             \u001b[0mloss\u001b[0m \u001b[0;34m=\u001b[0m \u001b[0mself\u001b[0m\u001b[0;34m.\u001b[0m\u001b[0mloss\u001b[0m\u001b[0;34m(\u001b[0m\u001b[0moutput\u001b[0m\u001b[0;34m,\u001b[0m \u001b[0mtarget\u001b[0m\u001b[0;34m)\u001b[0m\u001b[0;34m\u001b[0m\u001b[0;34m\u001b[0m\u001b[0m\n",
      "\u001b[0;32m/usr/local/lib/python3.8/site-packages/torch/optim/optimizer.py\u001b[0m in \u001b[0;36mzero_grad\u001b[0;34m(self, set_to_none)\u001b[0m\n\u001b[1;32m    215\u001b[0m                             \u001b[0;32melse\u001b[0m\u001b[0;34m:\u001b[0m\u001b[0;34m\u001b[0m\u001b[0;34m\u001b[0m\u001b[0m\n\u001b[1;32m    216\u001b[0m                                 \u001b[0mp\u001b[0m\u001b[0;34m.\u001b[0m\u001b[0mgrad\u001b[0m\u001b[0;34m.\u001b[0m\u001b[0mrequires_grad_\u001b[0m\u001b[0;34m(\u001b[0m\u001b[0;32mFalse\u001b[0m\u001b[0;34m)\u001b[0m\u001b[0;34m\u001b[0m\u001b[0;34m\u001b[0m\u001b[0m\n\u001b[0;32m--> 217\u001b[0;31m                             \u001b[0mp\u001b[0m\u001b[0;34m.\u001b[0m\u001b[0mgrad\u001b[0m\u001b[0;34m.\u001b[0m\u001b[0mzero_\u001b[0m\u001b[0;34m(\u001b[0m\u001b[0;34m)\u001b[0m\u001b[0;34m\u001b[0m\u001b[0;34m\u001b[0m\u001b[0m\n\u001b[0m\u001b[1;32m    218\u001b[0m \u001b[0;34m\u001b[0m\u001b[0m\n\u001b[1;32m    219\u001b[0m     \u001b[0;32mdef\u001b[0m \u001b[0mstep\u001b[0m\u001b[0;34m(\u001b[0m\u001b[0mself\u001b[0m\u001b[0;34m,\u001b[0m \u001b[0mclosure\u001b[0m\u001b[0;34m)\u001b[0m\u001b[0;34m:\u001b[0m\u001b[0;34m\u001b[0m\u001b[0;34m\u001b[0m\u001b[0m\n",
      "\u001b[0;31mKeyboardInterrupt\u001b[0m: "
     ]
    }
   ],
   "source": [
    "if __name__ == \"__main__\":\n",
    "    train_model = TrainModel()\n",
    "    train_model.train(epochs=3, lr=0.01,\n",
    "                      train_set=[\"../data/processed/train_set.npz\", \"../data/processed/train_set.npz\"],\n",
    "                      valid_set=\"../data/processed/valid_set.npz\")\n",
    "    train_model.save_model(save_model_path=\"../models/\")\n",
    "    \n",
    "    train_model.test(\"../data/processed/20211201-131133/train_set.npz\")    \n"
   ]
  },
  {
   "cell_type": "code",
   "execution_count": 33,
   "id": "29cae40b-d15b-4ddf-969d-9d0b638521b6",
   "metadata": {},
   "outputs": [
    {
     "name": "stdout",
     "output_type": "stream",
     "text": [
      "[NbConvertApp] Converting notebook torch_test.ipynb to script\n",
      "[NbConvertApp] Writing 5634 bytes to torch_test.py\n"
     ]
    }
   ],
   "source": [
    "!jupyter nbconvert --to script torch_test.ipynb"
   ]
  },
  {
   "cell_type": "code",
   "execution_count": null,
   "id": "71f210c4-d8ea-42e7-8eae-f7b9e59481eb",
   "metadata": {},
   "outputs": [],
   "source": [
    "# for convert .ipynb to .py \n",
    "# run on terminal\n",
    "# jupyter nbconvert --to script torch_test.ipynb"
   ]
  }
 ],
 "metadata": {
  "kernelspec": {
   "display_name": "Python 3 (ipykernel)",
   "language": "python",
   "name": "python3"
  },
  "language_info": {
   "codemirror_mode": {
    "name": "ipython",
    "version": 3
   },
   "file_extension": ".py",
   "mimetype": "text/x-python",
   "name": "python",
   "nbconvert_exporter": "python",
   "pygments_lexer": "ipython3",
   "version": "3.8.12"
  }
 },
 "nbformat": 4,
 "nbformat_minor": 5
}
