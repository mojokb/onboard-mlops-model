{
 "cells": [
  {
   "cell_type": "code",
   "execution_count": 8,
   "id": "cb0e4aa4-b1f3-49e1-b4d9-1a062735190e",
   "metadata": {},
   "outputs": [],
   "source": [
    "import idx2numpy\n",
    "import numpy as np\n",
    "\n",
    "from torchvision import datasets\n",
    "\n",
    "# load raw\n",
    "datasets.MNIST('./dataset', train=True, download=True)\n",
    "datasets.MNIST('./dataset', train=False, download=True)\n",
    "\n",
    "# build mnist image to npz\n",
    "train_images_ndarr = idx2numpy.convert_from_file('./dataset/MNIST/raw/train-images-idx3-ubyte')\n",
    "train_labels_ndarr = idx2numpy.convert_from_file('./dataset/MNIST/raw/train-labels-idx1-ubyte')\n",
    "valid_images_ndarr = train_images_ndarr[50000:]\n",
    "valid_labels_ndarr = train_labels_ndarr[50000:]\n",
    "train_images_ndarr = train_images_ndarr[:-10000]\n",
    "train_labels_ndarr = train_labels_ndarr[:-10000]\n",
    "test_images_ndarr = idx2numpy.convert_from_file('./dataset/MNIST/raw/t10k-images-idx3-ubyte')\n",
    "test_labels_ndarr = idx2numpy.convert_from_file('./dataset/MNIST/raw/t10k-labels-idx1-ubyte')\n",
    "\n",
    "np.savez('./dataset/processed/train_set.npz', x=train_images_ndarr, y=train_labels_ndarr)\n",
    "np.savez('./dataset/processed/valid_set.npz', x=valid_images_ndarr, y=valid_labels_ndarr)\n",
    "np.savez('./dataset/processed/test_set.npz', x=test_images_ndarr, y=test_labels_ndarr)"
   ]
  },
  {
   "cell_type": "code",
   "execution_count": null,
   "id": "23b616fe-88f5-4bb9-9605-d5d62a0bed1e",
   "metadata": {},
   "outputs": [],
   "source": []
  }
 ],
 "metadata": {
  "kernelspec": {
   "display_name": "Python 3 (ipykernel)",
   "language": "python",
   "name": "python3"
  },
  "language_info": {
   "codemirror_mode": {
    "name": "ipython",
    "version": 3
   },
   "file_extension": ".py",
   "mimetype": "text/x-python",
   "name": "python",
   "nbconvert_exporter": "python",
   "pygments_lexer": "ipython3",
   "version": "3.8.12"
  }
 },
 "nbformat": 4,
 "nbformat_minor": 5
}
